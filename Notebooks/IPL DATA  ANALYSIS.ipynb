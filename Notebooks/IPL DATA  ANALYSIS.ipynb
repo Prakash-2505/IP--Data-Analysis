{
 "cells": [
  {
   "cell_type": "code",
   "execution_count": 49,
   "id": "dc290287-22df-4043-b8a2-3a6d48d33b72",
   "metadata": {},
   "outputs": [],
   "source": [
    "# importing essential libraries"
   ]
  },
  {
   "cell_type": "code",
   "execution_count": 50,
   "id": "36dd8185-39ed-49c5-ad47-2cadc2731bf1",
   "metadata": {},
   "outputs": [],
   "source": [
    "import pandas as pd\n",
    "import numpy as np\n",
    "import matplotlib.pyplot as plt\n",
    "import seaborn as sns"
   ]
  },
  {
   "cell_type": "code",
   "execution_count": 51,
   "id": "5eba751f-a389-4482-af86-512e5066757f",
   "metadata": {},
   "outputs": [],
   "source": [
    "#reading datasets\n",
    "batting = pd.read_csv(\"../Data/ipl_batting.csv\")"
   ]
  },
  {
   "cell_type": "code",
   "execution_count": 52,
   "id": "a7d83162-2daf-47fe-bc82-65db007b09bc",
   "metadata": {},
   "outputs": [],
   "source": [
    "deliveries = pd.read_csv(\"../Data/ipl_deliveries.csv\")"
   ]
  },
  {
   "cell_type": "code",
   "execution_count": 53,
   "id": "02ba7a76-1552-4772-99d8-dec37110bb07",
   "metadata": {},
   "outputs": [],
   "source": [
    "matches = pd.read_csv(\"../Data/ipl_matches.csv\")"
   ]
  },
  {
   "cell_type": "code",
   "execution_count": 54,
   "id": "0c6fd1da-35bc-4866-bf81-a7291ad92b5e",
   "metadata": {},
   "outputs": [
    {
     "data": {
      "text/html": [
       "<div>\n",
       "<style scoped>\n",
       "    .dataframe tbody tr th:only-of-type {\n",
       "        vertical-align: middle;\n",
       "    }\n",
       "\n",
       "    .dataframe tbody tr th {\n",
       "        vertical-align: top;\n",
       "    }\n",
       "\n",
       "    .dataframe thead th {\n",
       "        text-align: right;\n",
       "    }\n",
       "</style>\n",
       "<table border=\"1\" class=\"dataframe\">\n",
       "  <thead>\n",
       "    <tr style=\"text-align: right;\">\n",
       "      <th></th>\n",
       "      <th>match_no</th>\n",
       "      <th>team_1</th>\n",
       "      <th>team_2</th>\n",
       "      <th>batsmen</th>\n",
       "      <th>wicket_status</th>\n",
       "      <th>R</th>\n",
       "      <th>B</th>\n",
       "      <th>M</th>\n",
       "      <th>fours</th>\n",
       "      <th>sixes</th>\n",
       "      <th>SR</th>\n",
       "      <th>special_role</th>\n",
       "      <th>dismissal_mode</th>\n",
       "      <th>bowler_name</th>\n",
       "      <th>fielder</th>\n",
       "      <th>is_fielder_involved</th>\n",
       "      <th>match_date</th>\n",
       "    </tr>\n",
       "  </thead>\n",
       "  <tbody>\n",
       "    <tr>\n",
       "      <th>0</th>\n",
       "      <td>1</td>\n",
       "      <td>Mumbai Indians</td>\n",
       "      <td>Chennai Super Kings</td>\n",
       "      <td>ST Jayasuriya</td>\n",
       "      <td>c Hayden b Thushara</td>\n",
       "      <td>26.0</td>\n",
       "      <td>20.0</td>\n",
       "      <td>0.0</td>\n",
       "      <td>5.0</td>\n",
       "      <td>0.0</td>\n",
       "      <td>130.00</td>\n",
       "      <td>normal player</td>\n",
       "      <td>caught</td>\n",
       "      <td>Thushara</td>\n",
       "      <td>Hayden</td>\n",
       "      <td>1</td>\n",
       "      <td>2009-04-18</td>\n",
       "    </tr>\n",
       "    <tr>\n",
       "      <th>1</th>\n",
       "      <td>1</td>\n",
       "      <td>Mumbai Indians</td>\n",
       "      <td>Chennai Super Kings</td>\n",
       "      <td>SR Tendulkar</td>\n",
       "      <td>not out</td>\n",
       "      <td>59.0</td>\n",
       "      <td>49.0</td>\n",
       "      <td>0.0</td>\n",
       "      <td>7.0</td>\n",
       "      <td>0.0</td>\n",
       "      <td>120.40</td>\n",
       "      <td>captain</td>\n",
       "      <td>not out</td>\n",
       "      <td>no bowler</td>\n",
       "      <td>no fielder</td>\n",
       "      <td>0</td>\n",
       "      <td>2009-04-18</td>\n",
       "    </tr>\n",
       "    <tr>\n",
       "      <th>2</th>\n",
       "      <td>1</td>\n",
       "      <td>Mumbai Indians</td>\n",
       "      <td>Chennai Super Kings</td>\n",
       "      <td>S Dhawan</td>\n",
       "      <td>c Dhoni b Gony</td>\n",
       "      <td>22.0</td>\n",
       "      <td>21.0</td>\n",
       "      <td>0.0</td>\n",
       "      <td>2.0</td>\n",
       "      <td>0.0</td>\n",
       "      <td>104.76</td>\n",
       "      <td>normal player</td>\n",
       "      <td>caught</td>\n",
       "      <td>Gony</td>\n",
       "      <td>Dhoni</td>\n",
       "      <td>1</td>\n",
       "      <td>2009-04-18</td>\n",
       "    </tr>\n",
       "    <tr>\n",
       "      <th>3</th>\n",
       "      <td>1</td>\n",
       "      <td>Mumbai Indians</td>\n",
       "      <td>Chennai Super Kings</td>\n",
       "      <td>JP Duminy</td>\n",
       "      <td>c &amp; b Gony</td>\n",
       "      <td>9.0</td>\n",
       "      <td>7.0</td>\n",
       "      <td>0.0</td>\n",
       "      <td>1.0</td>\n",
       "      <td>0.0</td>\n",
       "      <td>128.57</td>\n",
       "      <td>normal player</td>\n",
       "      <td>caught</td>\n",
       "      <td>Gony</td>\n",
       "      <td>Gony</td>\n",
       "      <td>1</td>\n",
       "      <td>2009-04-18</td>\n",
       "    </tr>\n",
       "    <tr>\n",
       "      <th>4</th>\n",
       "      <td>1</td>\n",
       "      <td>Mumbai Indians</td>\n",
       "      <td>Chennai Super Kings</td>\n",
       "      <td>DJ Bravo</td>\n",
       "      <td>c Hayden b Joginder Sharma</td>\n",
       "      <td>5.0</td>\n",
       "      <td>4.0</td>\n",
       "      <td>0.0</td>\n",
       "      <td>1.0</td>\n",
       "      <td>0.0</td>\n",
       "      <td>125.00</td>\n",
       "      <td>normal player</td>\n",
       "      <td>caught</td>\n",
       "      <td>Joginder Sharma</td>\n",
       "      <td>Hayden</td>\n",
       "      <td>1</td>\n",
       "      <td>2009-04-18</td>\n",
       "    </tr>\n",
       "  </tbody>\n",
       "</table>\n",
       "</div>"
      ],
      "text/plain": [
       "  match_no          team_1               team_2        batsmen  \\\n",
       "0        1  Mumbai Indians  Chennai Super Kings  ST Jayasuriya   \n",
       "1        1  Mumbai Indians  Chennai Super Kings   SR Tendulkar   \n",
       "2        1  Mumbai Indians  Chennai Super Kings       S Dhawan   \n",
       "3        1  Mumbai Indians  Chennai Super Kings      JP Duminy   \n",
       "4        1  Mumbai Indians  Chennai Super Kings       DJ Bravo   \n",
       "\n",
       "                wicket_status     R     B    M  fours  sixes      SR  \\\n",
       "0         c Hayden b Thushara  26.0  20.0  0.0    5.0    0.0  130.00   \n",
       "1                     not out  59.0  49.0  0.0    7.0    0.0  120.40   \n",
       "2              c Dhoni b Gony  22.0  21.0  0.0    2.0    0.0  104.76   \n",
       "3                  c & b Gony   9.0   7.0  0.0    1.0    0.0  128.57   \n",
       "4  c Hayden b Joginder Sharma   5.0   4.0  0.0    1.0    0.0  125.00   \n",
       "\n",
       "    special_role dismissal_mode      bowler_name     fielder  \\\n",
       "0  normal player         caught         Thushara      Hayden   \n",
       "1        captain        not out        no bowler  no fielder   \n",
       "2  normal player         caught             Gony       Dhoni   \n",
       "3  normal player         caught             Gony        Gony   \n",
       "4  normal player         caught  Joginder Sharma      Hayden   \n",
       "\n",
       "   is_fielder_involved  match_date  \n",
       "0                    1  2009-04-18  \n",
       "1                    0  2009-04-18  \n",
       "2                    1  2009-04-18  \n",
       "3                    1  2009-04-18  \n",
       "4                    1  2009-04-18  "
      ]
     },
     "execution_count": 54,
     "metadata": {},
     "output_type": "execute_result"
    }
   ],
   "source": [
    "batting.head()"
   ]
  },
  {
   "cell_type": "code",
   "execution_count": 55,
   "id": "b86f7e42-a3f2-409b-bef7-55c123952787",
   "metadata": {},
   "outputs": [
    {
     "data": {
      "text/plain": [
       "match_date        object\n",
       "Ground            object\n",
       "Team 1            object\n",
       "Team 2            object\n",
       "Winner            object\n",
       "year               int64\n",
       "month              int64\n",
       "day                int64\n",
       "win_mode          object\n",
       "margin           float64\n",
       "toss_winner       object\n",
       "toss_decision     object\n",
       "match_no           int64\n",
       "dtype: object"
      ]
     },
     "execution_count": 55,
     "metadata": {},
     "output_type": "execute_result"
    }
   ],
   "source": [
    "matches.dtypes"
   ]
  },
  {
   "cell_type": "code",
   "execution_count": 56,
   "id": "cc9096e2-2494-4371-a9b5-d189695a48d5",
   "metadata": {},
   "outputs": [],
   "source": [
    "date= matches.match_date\n",
    "key=[]\n",
    "visited=[]\n",
    "for i in date:\n",
    "    if i in date:\n",
    "      number=visited.count(i)\n",
    "      temp=i.split('_')\n",
    "      temp1=temp[0]+temp[1]+temp[2]+'0'+str(number+1)\n",
    "      visited.appeand(i)\n",
    "      key.appeand(temp1)\n",
    "    else:\n",
    "      temp=i.split('-')\n",
    "      temp1=temp[0]+temp[1]+temp[2]+'01'\n",
    "      key.append(temp1)\n",
    "      visited.append(i)"
   ]
  },
  {
   "cell_type": "code",
   "execution_count": 57,
   "id": "ac9dd001-697a-4efd-b63c-acb709c579ee",
   "metadata": {},
   "outputs": [],
   "source": [
    "matches['match_key']=key"
   ]
  },
  {
   "cell_type": "code",
   "execution_count": 58,
   "id": "4ada274f-942d-4855-a643-79c54af8bda2",
   "metadata": {},
   "outputs": [
    {
     "data": {
      "text/html": [
       "<div>\n",
       "<style scoped>\n",
       "    .dataframe tbody tr th:only-of-type {\n",
       "        vertical-align: middle;\n",
       "    }\n",
       "\n",
       "    .dataframe tbody tr th {\n",
       "        vertical-align: top;\n",
       "    }\n",
       "\n",
       "    .dataframe thead th {\n",
       "        text-align: right;\n",
       "    }\n",
       "</style>\n",
       "<table border=\"1\" class=\"dataframe\">\n",
       "  <thead>\n",
       "    <tr style=\"text-align: right;\">\n",
       "      <th></th>\n",
       "      <th>match_date</th>\n",
       "      <th>Ground</th>\n",
       "      <th>Team 1</th>\n",
       "      <th>Team 2</th>\n",
       "      <th>Winner</th>\n",
       "      <th>year</th>\n",
       "      <th>month</th>\n",
       "      <th>day</th>\n",
       "      <th>win_mode</th>\n",
       "      <th>margin</th>\n",
       "      <th>toss_winner</th>\n",
       "      <th>toss_decision</th>\n",
       "      <th>match_no</th>\n",
       "      <th>match_key</th>\n",
       "    </tr>\n",
       "  </thead>\n",
       "  <tbody>\n",
       "    <tr>\n",
       "      <th>0</th>\n",
       "      <td>2008-04-18</td>\n",
       "      <td>Bengaluru, Bangalore</td>\n",
       "      <td>Royal Challengers Bangalore</td>\n",
       "      <td>Kolkata Knight Riders</td>\n",
       "      <td>Kolkata Knight Riders</td>\n",
       "      <td>2008</td>\n",
       "      <td>4</td>\n",
       "      <td>18</td>\n",
       "      <td>Runs</td>\n",
       "      <td>140.0</td>\n",
       "      <td>Royal Challengers Bangalore</td>\n",
       "      <td>field first</td>\n",
       "      <td>1</td>\n",
       "      <td>2008041801</td>\n",
       "    </tr>\n",
       "    <tr>\n",
       "      <th>1</th>\n",
       "      <td>2008-04-19</td>\n",
       "      <td>Mohali, Chandigarh</td>\n",
       "      <td>Kings XI Punjab</td>\n",
       "      <td>Chennai Super Kings</td>\n",
       "      <td>Chennai Super Kings</td>\n",
       "      <td>2008</td>\n",
       "      <td>4</td>\n",
       "      <td>19</td>\n",
       "      <td>Runs</td>\n",
       "      <td>33.0</td>\n",
       "      <td>Chennai Super Kings</td>\n",
       "      <td>bat first</td>\n",
       "      <td>2</td>\n",
       "      <td>2008041901</td>\n",
       "    </tr>\n",
       "    <tr>\n",
       "      <th>2</th>\n",
       "      <td>2008-04-19</td>\n",
       "      <td>Delhi</td>\n",
       "      <td>Delhi Capitals</td>\n",
       "      <td>Rajasthan Royals</td>\n",
       "      <td>Delhi Capitals</td>\n",
       "      <td>2008</td>\n",
       "      <td>4</td>\n",
       "      <td>19</td>\n",
       "      <td>Wickets</td>\n",
       "      <td>9.0</td>\n",
       "      <td>Rajasthan Royals</td>\n",
       "      <td>bat first</td>\n",
       "      <td>3</td>\n",
       "      <td>2008041901</td>\n",
       "    </tr>\n",
       "    <tr>\n",
       "      <th>3</th>\n",
       "      <td>2008-04-20</td>\n",
       "      <td>Kolkata</td>\n",
       "      <td>Kolkata Knight Riders</td>\n",
       "      <td>Deccan Chargers</td>\n",
       "      <td>Kolkata Knight Riders</td>\n",
       "      <td>2008</td>\n",
       "      <td>4</td>\n",
       "      <td>20</td>\n",
       "      <td>Wickets</td>\n",
       "      <td>5.0</td>\n",
       "      <td>Deccan Chargers</td>\n",
       "      <td>bat first</td>\n",
       "      <td>4</td>\n",
       "      <td>2008042001</td>\n",
       "    </tr>\n",
       "    <tr>\n",
       "      <th>4</th>\n",
       "      <td>2008-04-20</td>\n",
       "      <td>Mumbai</td>\n",
       "      <td>Mumbai Indians</td>\n",
       "      <td>Royal Challengers Bangalore</td>\n",
       "      <td>Royal Challengers Bangalore</td>\n",
       "      <td>2008</td>\n",
       "      <td>4</td>\n",
       "      <td>20</td>\n",
       "      <td>Wickets</td>\n",
       "      <td>5.0</td>\n",
       "      <td>Mumbai Indians</td>\n",
       "      <td>bat first</td>\n",
       "      <td>5</td>\n",
       "      <td>2008042001</td>\n",
       "    </tr>\n",
       "  </tbody>\n",
       "</table>\n",
       "</div>"
      ],
      "text/plain": [
       "   match_date                Ground                       Team 1  \\\n",
       "0  2008-04-18  Bengaluru, Bangalore  Royal Challengers Bangalore   \n",
       "1  2008-04-19    Mohali, Chandigarh              Kings XI Punjab   \n",
       "2  2008-04-19                 Delhi               Delhi Capitals   \n",
       "3  2008-04-20               Kolkata        Kolkata Knight Riders   \n",
       "4  2008-04-20                Mumbai               Mumbai Indians   \n",
       "\n",
       "                        Team 2                       Winner  year  month  day  \\\n",
       "0        Kolkata Knight Riders        Kolkata Knight Riders  2008      4   18   \n",
       "1          Chennai Super Kings          Chennai Super Kings  2008      4   19   \n",
       "2             Rajasthan Royals               Delhi Capitals  2008      4   19   \n",
       "3              Deccan Chargers        Kolkata Knight Riders  2008      4   20   \n",
       "4  Royal Challengers Bangalore  Royal Challengers Bangalore  2008      4   20   \n",
       "\n",
       "  win_mode  margin                  toss_winner toss_decision  match_no  \\\n",
       "0     Runs   140.0  Royal Challengers Bangalore   field first         1   \n",
       "1     Runs    33.0          Chennai Super Kings     bat first         2   \n",
       "2  Wickets     9.0             Rajasthan Royals     bat first         3   \n",
       "3  Wickets     5.0              Deccan Chargers     bat first         4   \n",
       "4  Wickets     5.0               Mumbai Indians     bat first         5   \n",
       "\n",
       "    match_key  \n",
       "0  2008041801  \n",
       "1  2008041901  \n",
       "2  2008041901  \n",
       "3  2008042001  \n",
       "4  2008042001  "
      ]
     },
     "execution_count": 58,
     "metadata": {},
     "output_type": "execute_result"
    }
   ],
   "source": [
    "matches.head()"
   ]
  },
  {
   "cell_type": "code",
   "execution_count": 59,
   "id": "171a9932-9390-4c06-a332-1d2b8387b41f",
   "metadata": {},
   "outputs": [
    {
     "data": {
      "text/plain": [
       "array(['Royal Challengers Bangalore', 'Kings XI Punjab', 'Delhi Capitals',\n",
       "       'Kolkata Knight Riders', 'Mumbai Indians', 'Rajasthan Royals',\n",
       "       'Deccan Chargers', 'Chennai Super Kings', 'Kochi Tuskers Kerala',\n",
       "       'Pune Warriors', 'Sunrisers Hyderabad', 'Gujarat Lions',\n",
       "       'Rising Pune Supergiant'], dtype=object)"
      ]
     },
     "execution_count": 59,
     "metadata": {},
     "output_type": "execute_result"
    }
   ],
   "source": [
    "matches['Team 1'].unique()"
   ]
  },
  {
   "cell_type": "code",
   "execution_count": 60,
   "id": "0437f1d7-16ff-4989-9472-15741aa86fc9",
   "metadata": {},
   "outputs": [
    {
     "data": {
      "text/plain": [
       "array(['Kolkata Knight Riders', 'Chennai Super Kings', 'Rajasthan Royals',\n",
       "       'Deccan Chargers', 'Royal Challengers Bangalore',\n",
       "       'Kings XI Punjab', 'Delhi Capitals', 'Mumbai Indians',\n",
       "       'Kochi Tuskers Kerala', 'Pune Warriors', 'Sunrisers Hyderabad',\n",
       "       'Rising Pune Supergiant', 'Gujarat Lions'], dtype=object)"
      ]
     },
     "execution_count": 60,
     "metadata": {},
     "output_type": "execute_result"
    }
   ],
   "source": [
    "matches['Team 2'].unique()"
   ]
  },
  {
   "cell_type": "code",
   "execution_count": 61,
   "id": "7cb7b6d2-6a9f-4992-adab-4dc5e4657152",
   "metadata": {},
   "outputs": [
    {
     "data": {
      "text/plain": [
       "array(['Royal Challengers Bangalore', 'Chennai Super Kings',\n",
       "       'Rajasthan Royals', 'Deccan Chargers', 'Mumbai Indians',\n",
       "       'Kings XI Punjab', 'Kolkata Knight Riders', 'Delhi Capitals',\n",
       "       'no toss', 'Kochi Tuskers Kerala', 'Pune Warriors',\n",
       "       'Sunrisers Hyderabad', 'Gujarat Lions', 'Rising Pune Supergiants',\n",
       "       'Rising Pune Supergiant'], dtype=object)"
      ]
     },
     "execution_count": 61,
     "metadata": {},
     "output_type": "execute_result"
    }
   ],
   "source": [
    "matches['toss_winner'].unique()"
   ]
  },
  {
   "cell_type": "code",
   "execution_count": 62,
   "id": "f9695700-a48f-41d9-b4eb-6292ea35c10b",
   "metadata": {},
   "outputs": [],
   "source": [
    "team_1=matches['Team 1'].groupby(matches['Team 1']).agg('count')\n"
   ]
  },
  {
   "cell_type": "code",
   "execution_count": 63,
   "id": "a7f64d53-b6eb-4ab0-909c-e04f9d1992dc",
   "metadata": {},
   "outputs": [
    {
     "data": {
      "text/plain": [
       "Team 1\n",
       "Chennai Super Kings             91\n",
       "Deccan Chargers                 39\n",
       "Delhi Capitals                  92\n",
       "Gujarat Lions                   16\n",
       "Kings XI Punjab                 87\n",
       "Kochi Tuskers Kerala             7\n",
       "Kolkata Knight Riders           87\n",
       "Mumbai Indians                  87\n",
       "Pune Warriors                   23\n",
       "Rajasthan Royals                66\n",
       "Rising Pune Supergiant          14\n",
       "Royal Challengers Bangalore    101\n",
       "Sunrisers Hyderabad             53\n",
       "Name: Team 1, dtype: int64"
      ]
     },
     "execution_count": 63,
     "metadata": {},
     "output_type": "execute_result"
    }
   ],
   "source": [
    "team_1"
   ]
  },
  {
   "cell_type": "code",
   "execution_count": 64,
   "id": "c92c2b53-6222-4b46-9db2-c220cea20350",
   "metadata": {},
   "outputs": [],
   "source": [
    "team_2=matches['Team 2'].groupby(matches['Team 2']).agg('count')"
   ]
  },
  {
   "cell_type": "code",
   "execution_count": 65,
   "id": "b573563c-95f0-4ba2-9f7f-694687f7c19d",
   "metadata": {},
   "outputs": [
    {
     "data": {
      "text/plain": [
       "Team 2\n",
       "Chennai Super Kings             75\n",
       "Deccan Chargers                 37\n",
       "Delhi Capitals                  86\n",
       "Gujarat Lions                   14\n",
       "Kings XI Punjab                 88\n",
       "Kochi Tuskers Kerala             7\n",
       "Kolkata Knight Riders           94\n",
       "Mumbai Indians                 101\n",
       "Pune Warriors                   23\n",
       "Rajasthan Royals                84\n",
       "Rising Pune Supergiant          16\n",
       "Royal Challengers Bangalore     82\n",
       "Sunrisers Hyderabad             56\n",
       "Name: Team 2, dtype: int64"
      ]
     },
     "execution_count": 65,
     "metadata": {},
     "output_type": "execute_result"
    }
   ],
   "source": [
    "team_2"
   ]
  },
  {
   "cell_type": "code",
   "execution_count": 66,
   "id": "10a57297-d94f-434e-8c4d-3dbeceb630f1",
   "metadata": {},
   "outputs": [],
   "source": [
    "total_matches= team_1+team_2"
   ]
  },
  {
   "cell_type": "code",
   "execution_count": 67,
   "id": "989d9401-7c63-4fb6-834b-192c5497c919",
   "metadata": {},
   "outputs": [
    {
     "data": {
      "text/plain": [
       "Team 1\n",
       "Chennai Super Kings            166\n",
       "Deccan Chargers                 76\n",
       "Delhi Capitals                 178\n",
       "Gujarat Lions                   30\n",
       "Kings XI Punjab                175\n",
       "Kochi Tuskers Kerala            14\n",
       "Kolkata Knight Riders          181\n",
       "Mumbai Indians                 188\n",
       "Pune Warriors                   46\n",
       "Rajasthan Royals               150\n",
       "Rising Pune Supergiant          30\n",
       "Royal Challengers Bangalore    183\n",
       "Sunrisers Hyderabad            109\n",
       "dtype: int64"
      ]
     },
     "execution_count": 67,
     "metadata": {},
     "output_type": "execute_result"
    }
   ],
   "source": [
    "total_matches"
   ]
  },
  {
   "cell_type": "code",
   "execution_count": 68,
   "id": "eaa0d4cf-c4da-450c-8434-ea84c21a8958",
   "metadata": {},
   "outputs": [],
   "source": [
    "toss_winner=matches['toss_winner'].groupby(matches['toss_winner']).agg('count')"
   ]
  },
  {
   "cell_type": "code",
   "execution_count": 69,
   "id": "73ae976c-e7f9-44dd-b60d-4078ab1fc1e7",
   "metadata": {},
   "outputs": [
    {
     "data": {
      "text/plain": [
       "toss_winner\n",
       "Chennai Super Kings            89\n",
       "Deccan Chargers                43\n",
       "Delhi Capitals                 90\n",
       "Gujarat Lions                  15\n",
       "Kings XI Punjab                80\n",
       "Kochi Tuskers Kerala            8\n",
       "Kolkata Knight Riders          92\n",
       "Mumbai Indians                 98\n",
       "Pune Warriors                  20\n",
       "Rajasthan Royals               80\n",
       "Rising Pune Supergiant          6\n",
       "Rising Pune Supergiants         7\n",
       "Royal Challengers Bangalore    82\n",
       "Sunrisers Hyderabad            46\n",
       "no toss                         7\n",
       "Name: toss_winner, dtype: int64"
      ]
     },
     "execution_count": 69,
     "metadata": {},
     "output_type": "execute_result"
    }
   ],
   "source": [
    "toss_winner"
   ]
  },
  {
   "cell_type": "code",
   "execution_count": 70,
   "id": "94fefa94-e0f9-4d59-9f18-8d353f5ee744",
   "metadata": {},
   "outputs": [],
   "source": [
    "percentage_winning_toss=(toss_winner/total_matches)*100"
   ]
  },
  {
   "cell_type": "code",
   "execution_count": 71,
   "id": "44959dc2-2fa6-463d-9ad7-8c2fdfbb40b8",
   "metadata": {},
   "outputs": [
    {
     "data": {
      "text/plain": [
       "Chennai Super Kings            53.614458\n",
       "Deccan Chargers                56.578947\n",
       "Delhi Capitals                 50.561798\n",
       "Gujarat Lions                  50.000000\n",
       "Kings XI Punjab                45.714286\n",
       "Kochi Tuskers Kerala           57.142857\n",
       "Kolkata Knight Riders          50.828729\n",
       "Mumbai Indians                 52.127660\n",
       "Pune Warriors                  43.478261\n",
       "Rajasthan Royals               53.333333\n",
       "Rising Pune Supergiant         20.000000\n",
       "Rising Pune Supergiants              NaN\n",
       "Royal Challengers Bangalore    44.808743\n",
       "Sunrisers Hyderabad            42.201835\n",
       "no toss                              NaN\n",
       "dtype: float64"
      ]
     },
     "execution_count": 71,
     "metadata": {},
     "output_type": "execute_result"
    }
   ],
   "source": [
    "percentage_winning_toss"
   ]
  },
  {
   "cell_type": "code",
   "execution_count": 72,
   "id": "68fdcdc6-1bca-40b2-8060-f541b104018a",
   "metadata": {},
   "outputs": [],
   "source": [
    "match_winner=matches['Winner'].groupby(matches['Winner']).agg('count')"
   ]
  },
  {
   "cell_type": "code",
   "execution_count": 73,
   "id": "66364f51-854d-4827-94b1-c1417d7b1e8f",
   "metadata": {},
   "outputs": [
    {
     "data": {
      "text/plain": [
       "Winner\n",
       "Chennai Super Kings            100\n",
       "Deccan Chargers                 29\n",
       "Delhi Capitals                  76\n",
       "Gujarat Lions                   13\n",
       "Kings XI Punjab                 80\n",
       "Kochi Tuskers Kerala             6\n",
       "Kolkata Knight Riders           91\n",
       "Match                            2\n",
       "Mumbai Indians                 107\n",
       "Pune Warriors                   12\n",
       "Rajasthan Royals                73\n",
       "Rising Pune Supergiant          15\n",
       "Royal Challengers Bangalore     83\n",
       "Sunrisers Hyderabad             57\n",
       "abandoned                        6\n",
       "no result                        5\n",
       "tied                             8\n",
       "Name: Winner, dtype: int64"
      ]
     },
     "execution_count": 73,
     "metadata": {},
     "output_type": "execute_result"
    }
   ],
   "source": [
    "match_winner"
   ]
  },
  {
   "cell_type": "code",
   "execution_count": 74,
   "id": "a3bda6ee-caf2-4dab-bc1e-7c0085ced7c2",
   "metadata": {},
   "outputs": [],
   "source": [
    "toss_match_winner=matches['Team 1'].groupby([matches['Winner'],matches['toss_winner']]).agg('count')"
   ]
  },
  {
   "cell_type": "code",
   "execution_count": 75,
   "id": "9ed37230-2915-464c-b010-e77ec804c7e3",
   "metadata": {},
   "outputs": [
    {
     "data": {
      "text/plain": [
       "Winner               toss_winner                \n",
       "Chennai Super Kings  Chennai Super Kings            57\n",
       "                     Deccan Chargers                 2\n",
       "                     Delhi Capitals                  7\n",
       "                     Kings XI Punjab                 3\n",
       "                     Kolkata Knight Riders           6\n",
       "                                                    ..\n",
       "tied                 Kings XI Punjab                 1\n",
       "                     Kolkata Knight Riders           1\n",
       "                     Mumbai Indians                  1\n",
       "                     Rajasthan Royals                1\n",
       "                     Royal Challengers Bangalore     2\n",
       "Name: Team 1, Length: 126, dtype: int64"
      ]
     },
     "execution_count": 75,
     "metadata": {},
     "output_type": "execute_result"
    }
   ],
   "source": [
    "#toss match winner\n",
    "toss_match_winner"
   ]
  },
  {
   "cell_type": "code",
   "execution_count": 76,
   "id": "d5486b3e-ce13-4fbf-8b0d-2fd975a6dbe8",
   "metadata": {},
   "outputs": [
    {
     "data": {
      "text/html": [
       "<div>\n",
       "<style scoped>\n",
       "    .dataframe tbody tr th:only-of-type {\n",
       "        vertical-align: middle;\n",
       "    }\n",
       "\n",
       "    .dataframe tbody tr th {\n",
       "        vertical-align: top;\n",
       "    }\n",
       "\n",
       "    .dataframe thead th {\n",
       "        text-align: right;\n",
       "    }\n",
       "</style>\n",
       "<table border=\"1\" class=\"dataframe\">\n",
       "  <thead>\n",
       "    <tr style=\"text-align: right;\">\n",
       "      <th></th>\n",
       "      <th>Winner</th>\n",
       "      <th>toss_winner</th>\n",
       "      <th>Team 1</th>\n",
       "    </tr>\n",
       "  </thead>\n",
       "  <tbody>\n",
       "    <tr>\n",
       "      <th>0</th>\n",
       "      <td>Chennai Super Kings</td>\n",
       "      <td>Chennai Super Kings</td>\n",
       "      <td>57</td>\n",
       "    </tr>\n",
       "    <tr>\n",
       "      <th>1</th>\n",
       "      <td>Chennai Super Kings</td>\n",
       "      <td>Deccan Chargers</td>\n",
       "      <td>2</td>\n",
       "    </tr>\n",
       "    <tr>\n",
       "      <th>2</th>\n",
       "      <td>Chennai Super Kings</td>\n",
       "      <td>Delhi Capitals</td>\n",
       "      <td>7</td>\n",
       "    </tr>\n",
       "    <tr>\n",
       "      <th>3</th>\n",
       "      <td>Chennai Super Kings</td>\n",
       "      <td>Kings XI Punjab</td>\n",
       "      <td>3</td>\n",
       "    </tr>\n",
       "    <tr>\n",
       "      <th>4</th>\n",
       "      <td>Chennai Super Kings</td>\n",
       "      <td>Kolkata Knight Riders</td>\n",
       "      <td>6</td>\n",
       "    </tr>\n",
       "    <tr>\n",
       "      <th>...</th>\n",
       "      <td>...</td>\n",
       "      <td>...</td>\n",
       "      <td>...</td>\n",
       "    </tr>\n",
       "    <tr>\n",
       "      <th>121</th>\n",
       "      <td>tied</td>\n",
       "      <td>Kings XI Punjab</td>\n",
       "      <td>1</td>\n",
       "    </tr>\n",
       "    <tr>\n",
       "      <th>122</th>\n",
       "      <td>tied</td>\n",
       "      <td>Kolkata Knight Riders</td>\n",
       "      <td>1</td>\n",
       "    </tr>\n",
       "    <tr>\n",
       "      <th>123</th>\n",
       "      <td>tied</td>\n",
       "      <td>Mumbai Indians</td>\n",
       "      <td>1</td>\n",
       "    </tr>\n",
       "    <tr>\n",
       "      <th>124</th>\n",
       "      <td>tied</td>\n",
       "      <td>Rajasthan Royals</td>\n",
       "      <td>1</td>\n",
       "    </tr>\n",
       "    <tr>\n",
       "      <th>125</th>\n",
       "      <td>tied</td>\n",
       "      <td>Royal Challengers Bangalore</td>\n",
       "      <td>2</td>\n",
       "    </tr>\n",
       "  </tbody>\n",
       "</table>\n",
       "<p>126 rows × 3 columns</p>\n",
       "</div>"
      ],
      "text/plain": [
       "                  Winner                  toss_winner  Team 1\n",
       "0    Chennai Super Kings          Chennai Super Kings      57\n",
       "1    Chennai Super Kings              Deccan Chargers       2\n",
       "2    Chennai Super Kings               Delhi Capitals       7\n",
       "3    Chennai Super Kings              Kings XI Punjab       3\n",
       "4    Chennai Super Kings        Kolkata Knight Riders       6\n",
       "..                   ...                          ...     ...\n",
       "121                 tied              Kings XI Punjab       1\n",
       "122                 tied        Kolkata Knight Riders       1\n",
       "123                 tied               Mumbai Indians       1\n",
       "124                 tied             Rajasthan Royals       1\n",
       "125                 tied  Royal Challengers Bangalore       2\n",
       "\n",
       "[126 rows x 3 columns]"
      ]
     },
     "execution_count": 76,
     "metadata": {},
     "output_type": "execute_result"
    }
   ],
   "source": [
    "temp=toss_match_winner.reset_index()\n",
    "temp"
   ]
  },
  {
   "cell_type": "code",
   "execution_count": 86,
   "id": "342c1c29-46ca-42dc-87b1-183640c52d17",
   "metadata": {},
   "outputs": [
    {
     "data": {
      "text/html": [
       "<div>\n",
       "<style scoped>\n",
       "    .dataframe tbody tr th:only-of-type {\n",
       "        vertical-align: middle;\n",
       "    }\n",
       "\n",
       "    .dataframe tbody tr th {\n",
       "        vertical-align: top;\n",
       "    }\n",
       "\n",
       "    .dataframe thead th {\n",
       "        text-align: right;\n",
       "    }\n",
       "</style>\n",
       "<table border=\"1\" class=\"dataframe\">\n",
       "  <thead>\n",
       "    <tr style=\"text-align: right;\">\n",
       "      <th></th>\n",
       "      <th>Winner</th>\n",
       "      <th>toss_winner</th>\n",
       "      <th>Team 1</th>\n",
       "    </tr>\n",
       "  </thead>\n",
       "  <tbody>\n",
       "    <tr>\n",
       "      <th>0</th>\n",
       "      <td>Chennai Super Kings</td>\n",
       "      <td>Chennai Super Kings</td>\n",
       "      <td>57</td>\n",
       "    </tr>\n",
       "    <tr>\n",
       "      <th>11</th>\n",
       "      <td>Deccan Chargers</td>\n",
       "      <td>Deccan Chargers</td>\n",
       "      <td>19</td>\n",
       "    </tr>\n",
       "    <tr>\n",
       "      <th>19</th>\n",
       "      <td>Delhi Capitals</td>\n",
       "      <td>Delhi Capitals</td>\n",
       "      <td>41</td>\n",
       "    </tr>\n",
       "    <tr>\n",
       "      <th>29</th>\n",
       "      <td>Gujarat Lions</td>\n",
       "      <td>Gujarat Lions</td>\n",
       "      <td>10</td>\n",
       "    </tr>\n",
       "    <tr>\n",
       "      <th>36</th>\n",
       "      <td>Kings XI Punjab</td>\n",
       "      <td>Kings XI Punjab</td>\n",
       "      <td>34</td>\n",
       "    </tr>\n",
       "    <tr>\n",
       "      <th>44</th>\n",
       "      <td>Kochi Tuskers Kerala</td>\n",
       "      <td>Kochi Tuskers Kerala</td>\n",
       "      <td>4</td>\n",
       "    </tr>\n",
       "    <tr>\n",
       "      <th>50</th>\n",
       "      <td>Kolkata Knight Riders</td>\n",
       "      <td>Kolkata Knight Riders</td>\n",
       "      <td>53</td>\n",
       "    </tr>\n",
       "    <tr>\n",
       "      <th>63</th>\n",
       "      <td>Mumbai Indians</td>\n",
       "      <td>Mumbai Indians</td>\n",
       "      <td>55</td>\n",
       "    </tr>\n",
       "    <tr>\n",
       "      <th>75</th>\n",
       "      <td>Pune Warriors</td>\n",
       "      <td>Pune Warriors</td>\n",
       "      <td>3</td>\n",
       "    </tr>\n",
       "    <tr>\n",
       "      <th>84</th>\n",
       "      <td>Rajasthan Royals</td>\n",
       "      <td>Rajasthan Royals</td>\n",
       "      <td>41</td>\n",
       "    </tr>\n",
       "    <tr>\n",
       "      <th>89</th>\n",
       "      <td>Rising Pune Supergiant</td>\n",
       "      <td>Rising Pune Supergiant</td>\n",
       "      <td>5</td>\n",
       "    </tr>\n",
       "    <tr>\n",
       "      <th>104</th>\n",
       "      <td>Royal Challengers Bangalore</td>\n",
       "      <td>Royal Challengers Bangalore</td>\n",
       "      <td>40</td>\n",
       "    </tr>\n",
       "    <tr>\n",
       "      <th>114</th>\n",
       "      <td>Sunrisers Hyderabad</td>\n",
       "      <td>Sunrisers Hyderabad</td>\n",
       "      <td>23</td>\n",
       "    </tr>\n",
       "  </tbody>\n",
       "</table>\n",
       "</div>"
      ],
      "text/plain": [
       "                          Winner                  toss_winner  Team 1\n",
       "0            Chennai Super Kings          Chennai Super Kings      57\n",
       "11               Deccan Chargers              Deccan Chargers      19\n",
       "19                Delhi Capitals               Delhi Capitals      41\n",
       "29                 Gujarat Lions                Gujarat Lions      10\n",
       "36               Kings XI Punjab              Kings XI Punjab      34\n",
       "44          Kochi Tuskers Kerala         Kochi Tuskers Kerala       4\n",
       "50         Kolkata Knight Riders        Kolkata Knight Riders      53\n",
       "63                Mumbai Indians               Mumbai Indians      55\n",
       "75                 Pune Warriors                Pune Warriors       3\n",
       "84              Rajasthan Royals             Rajasthan Royals      41\n",
       "89        Rising Pune Supergiant       Rising Pune Supergiant       5\n",
       "104  Royal Challengers Bangalore  Royal Challengers Bangalore      40\n",
       "114          Sunrisers Hyderabad          Sunrisers Hyderabad      23"
      ]
     },
     "execution_count": 86,
     "metadata": {},
     "output_type": "execute_result"
    }
   ],
   "source": [
    "df=temp.loc[temp['Winner']==temp['toss_winner']]\n",
    "df"
   ]
  },
  {
   "cell_type": "code",
   "execution_count": 87,
   "id": "1a8b14ea-733b-411d-9828-230325309a8d",
   "metadata": {},
   "outputs": [
    {
     "data": {
      "text/plain": [
       "toss_winner\n",
       "Chennai Super Kings            89\n",
       "Deccan Chargers                43\n",
       "Delhi Capitals                 90\n",
       "Gujarat Lions                  15\n",
       "Kings XI Punjab                80\n",
       "Kochi Tuskers Kerala            8\n",
       "Kolkata Knight Riders          92\n",
       "Mumbai Indians                 98\n",
       "Pune Warriors                  20\n",
       "Rajasthan Royals               80\n",
       "Rising Pune Supergiant          6\n",
       "Rising Pune Supergiants         7\n",
       "Royal Challengers Bangalore    82\n",
       "Sunrisers Hyderabad            46\n",
       "no toss                         7\n",
       "Name: toss_winner, dtype: int64"
      ]
     },
     "execution_count": 87,
     "metadata": {},
     "output_type": "execute_result"
    }
   ],
   "source": [
    "toss_winner"
   ]
  },
  {
   "cell_type": "code",
   "execution_count": 85,
   "id": "53c47e20-b529-441e-ab77-a4e8c49d2367",
   "metadata": {},
   "outputs": [
    {
     "name": "stdout",
     "output_type": "stream",
     "text": [
      "[89 43 90 15 80  8 92 98 20 80  6  7 82  7]\n"
     ]
    }
   ],
   "source": [
    "dif=toss_winner.to_numpy()\n",
    "#print(toss_winner)\n",
    "dif=np.delete(dif,13)\n",
    "print(dif)"
   ]
  },
  {
   "cell_type": "code",
   "execution_count": 84,
   "id": "8b33a9fb-dd58-4db6-a3ee-b46cfeacaff8",
   "metadata": {},
   "outputs": [
    {
     "ename": "KeyError",
     "evalue": "\"['Winner'] not found in axis\"",
     "output_type": "error",
     "traceback": [
      "\u001b[1;31m---------------------------------------------------------------------------\u001b[0m",
      "\u001b[1;31mKeyError\u001b[0m                                  Traceback (most recent call last)",
      "Cell \u001b[1;32mIn[84], line 1\u001b[0m\n\u001b[1;32m----> 1\u001b[0m df\u001b[38;5;241m=\u001b[39m\u001b[43mdf\u001b[49m\u001b[38;5;241;43m.\u001b[39;49m\u001b[43mdrop\u001b[49m\u001b[43m(\u001b[49m\u001b[43mcolumns\u001b[49m\u001b[38;5;241;43m=\u001b[39;49m\u001b[43m[\u001b[49m\u001b[38;5;124;43m'\u001b[39;49m\u001b[38;5;124;43mWinner\u001b[39;49m\u001b[38;5;124;43m'\u001b[39;49m\u001b[43m]\u001b[49m\u001b[43m)\u001b[49m\n",
      "File \u001b[1;32m~\\AppData\\Local\\Programs\\Python\\Python313\\Lib\\site-packages\\pandas\\core\\frame.py:5581\u001b[0m, in \u001b[0;36mDataFrame.drop\u001b[1;34m(self, labels, axis, index, columns, level, inplace, errors)\u001b[0m\n\u001b[0;32m   5433\u001b[0m \u001b[38;5;28;01mdef\u001b[39;00m\u001b[38;5;250m \u001b[39m\u001b[38;5;21mdrop\u001b[39m(\n\u001b[0;32m   5434\u001b[0m     \u001b[38;5;28mself\u001b[39m,\n\u001b[0;32m   5435\u001b[0m     labels: IndexLabel \u001b[38;5;241m|\u001b[39m \u001b[38;5;28;01mNone\u001b[39;00m \u001b[38;5;241m=\u001b[39m \u001b[38;5;28;01mNone\u001b[39;00m,\n\u001b[1;32m   (...)\u001b[0m\n\u001b[0;32m   5442\u001b[0m     errors: IgnoreRaise \u001b[38;5;241m=\u001b[39m \u001b[38;5;124m\"\u001b[39m\u001b[38;5;124mraise\u001b[39m\u001b[38;5;124m\"\u001b[39m,\n\u001b[0;32m   5443\u001b[0m ) \u001b[38;5;241m-\u001b[39m\u001b[38;5;241m>\u001b[39m DataFrame \u001b[38;5;241m|\u001b[39m \u001b[38;5;28;01mNone\u001b[39;00m:\n\u001b[0;32m   5444\u001b[0m \u001b[38;5;250m    \u001b[39m\u001b[38;5;124;03m\"\"\"\u001b[39;00m\n\u001b[0;32m   5445\u001b[0m \u001b[38;5;124;03m    Drop specified labels from rows or columns.\u001b[39;00m\n\u001b[0;32m   5446\u001b[0m \n\u001b[1;32m   (...)\u001b[0m\n\u001b[0;32m   5579\u001b[0m \u001b[38;5;124;03m            weight  1.0     0.8\u001b[39;00m\n\u001b[0;32m   5580\u001b[0m \u001b[38;5;124;03m    \"\"\"\u001b[39;00m\n\u001b[1;32m-> 5581\u001b[0m     \u001b[38;5;28;01mreturn\u001b[39;00m \u001b[38;5;28;43msuper\u001b[39;49m\u001b[43m(\u001b[49m\u001b[43m)\u001b[49m\u001b[38;5;241;43m.\u001b[39;49m\u001b[43mdrop\u001b[49m\u001b[43m(\u001b[49m\n\u001b[0;32m   5582\u001b[0m \u001b[43m        \u001b[49m\u001b[43mlabels\u001b[49m\u001b[38;5;241;43m=\u001b[39;49m\u001b[43mlabels\u001b[49m\u001b[43m,\u001b[49m\n\u001b[0;32m   5583\u001b[0m \u001b[43m        \u001b[49m\u001b[43maxis\u001b[49m\u001b[38;5;241;43m=\u001b[39;49m\u001b[43maxis\u001b[49m\u001b[43m,\u001b[49m\n\u001b[0;32m   5584\u001b[0m \u001b[43m        \u001b[49m\u001b[43mindex\u001b[49m\u001b[38;5;241;43m=\u001b[39;49m\u001b[43mindex\u001b[49m\u001b[43m,\u001b[49m\n\u001b[0;32m   5585\u001b[0m \u001b[43m        \u001b[49m\u001b[43mcolumns\u001b[49m\u001b[38;5;241;43m=\u001b[39;49m\u001b[43mcolumns\u001b[49m\u001b[43m,\u001b[49m\n\u001b[0;32m   5586\u001b[0m \u001b[43m        \u001b[49m\u001b[43mlevel\u001b[49m\u001b[38;5;241;43m=\u001b[39;49m\u001b[43mlevel\u001b[49m\u001b[43m,\u001b[49m\n\u001b[0;32m   5587\u001b[0m \u001b[43m        \u001b[49m\u001b[43minplace\u001b[49m\u001b[38;5;241;43m=\u001b[39;49m\u001b[43minplace\u001b[49m\u001b[43m,\u001b[49m\n\u001b[0;32m   5588\u001b[0m \u001b[43m        \u001b[49m\u001b[43merrors\u001b[49m\u001b[38;5;241;43m=\u001b[39;49m\u001b[43merrors\u001b[49m\u001b[43m,\u001b[49m\n\u001b[0;32m   5589\u001b[0m \u001b[43m    \u001b[49m\u001b[43m)\u001b[49m\n",
      "File \u001b[1;32m~\\AppData\\Local\\Programs\\Python\\Python313\\Lib\\site-packages\\pandas\\core\\generic.py:4788\u001b[0m, in \u001b[0;36mNDFrame.drop\u001b[1;34m(self, labels, axis, index, columns, level, inplace, errors)\u001b[0m\n\u001b[0;32m   4786\u001b[0m \u001b[38;5;28;01mfor\u001b[39;00m axis, labels \u001b[38;5;129;01min\u001b[39;00m axes\u001b[38;5;241m.\u001b[39mitems():\n\u001b[0;32m   4787\u001b[0m     \u001b[38;5;28;01mif\u001b[39;00m labels \u001b[38;5;129;01mis\u001b[39;00m \u001b[38;5;129;01mnot\u001b[39;00m \u001b[38;5;28;01mNone\u001b[39;00m:\n\u001b[1;32m-> 4788\u001b[0m         obj \u001b[38;5;241m=\u001b[39m \u001b[43mobj\u001b[49m\u001b[38;5;241;43m.\u001b[39;49m\u001b[43m_drop_axis\u001b[49m\u001b[43m(\u001b[49m\u001b[43mlabels\u001b[49m\u001b[43m,\u001b[49m\u001b[43m \u001b[49m\u001b[43maxis\u001b[49m\u001b[43m,\u001b[49m\u001b[43m \u001b[49m\u001b[43mlevel\u001b[49m\u001b[38;5;241;43m=\u001b[39;49m\u001b[43mlevel\u001b[49m\u001b[43m,\u001b[49m\u001b[43m \u001b[49m\u001b[43merrors\u001b[49m\u001b[38;5;241;43m=\u001b[39;49m\u001b[43merrors\u001b[49m\u001b[43m)\u001b[49m\n\u001b[0;32m   4790\u001b[0m \u001b[38;5;28;01mif\u001b[39;00m inplace:\n\u001b[0;32m   4791\u001b[0m     \u001b[38;5;28mself\u001b[39m\u001b[38;5;241m.\u001b[39m_update_inplace(obj)\n",
      "File \u001b[1;32m~\\AppData\\Local\\Programs\\Python\\Python313\\Lib\\site-packages\\pandas\\core\\generic.py:4830\u001b[0m, in \u001b[0;36mNDFrame._drop_axis\u001b[1;34m(self, labels, axis, level, errors, only_slice)\u001b[0m\n\u001b[0;32m   4828\u001b[0m         new_axis \u001b[38;5;241m=\u001b[39m axis\u001b[38;5;241m.\u001b[39mdrop(labels, level\u001b[38;5;241m=\u001b[39mlevel, errors\u001b[38;5;241m=\u001b[39merrors)\n\u001b[0;32m   4829\u001b[0m     \u001b[38;5;28;01melse\u001b[39;00m:\n\u001b[1;32m-> 4830\u001b[0m         new_axis \u001b[38;5;241m=\u001b[39m \u001b[43maxis\u001b[49m\u001b[38;5;241;43m.\u001b[39;49m\u001b[43mdrop\u001b[49m\u001b[43m(\u001b[49m\u001b[43mlabels\u001b[49m\u001b[43m,\u001b[49m\u001b[43m \u001b[49m\u001b[43merrors\u001b[49m\u001b[38;5;241;43m=\u001b[39;49m\u001b[43merrors\u001b[49m\u001b[43m)\u001b[49m\n\u001b[0;32m   4831\u001b[0m     indexer \u001b[38;5;241m=\u001b[39m axis\u001b[38;5;241m.\u001b[39mget_indexer(new_axis)\n\u001b[0;32m   4833\u001b[0m \u001b[38;5;66;03m# Case for non-unique axis\u001b[39;00m\n\u001b[0;32m   4834\u001b[0m \u001b[38;5;28;01melse\u001b[39;00m:\n",
      "File \u001b[1;32m~\\AppData\\Local\\Programs\\Python\\Python313\\Lib\\site-packages\\pandas\\core\\indexes\\base.py:7070\u001b[0m, in \u001b[0;36mIndex.drop\u001b[1;34m(self, labels, errors)\u001b[0m\n\u001b[0;32m   7068\u001b[0m \u001b[38;5;28;01mif\u001b[39;00m mask\u001b[38;5;241m.\u001b[39many():\n\u001b[0;32m   7069\u001b[0m     \u001b[38;5;28;01mif\u001b[39;00m errors \u001b[38;5;241m!=\u001b[39m \u001b[38;5;124m\"\u001b[39m\u001b[38;5;124mignore\u001b[39m\u001b[38;5;124m\"\u001b[39m:\n\u001b[1;32m-> 7070\u001b[0m         \u001b[38;5;28;01mraise\u001b[39;00m \u001b[38;5;167;01mKeyError\u001b[39;00m(\u001b[38;5;124mf\u001b[39m\u001b[38;5;124m\"\u001b[39m\u001b[38;5;132;01m{\u001b[39;00mlabels[mask]\u001b[38;5;241m.\u001b[39mtolist()\u001b[38;5;132;01m}\u001b[39;00m\u001b[38;5;124m not found in axis\u001b[39m\u001b[38;5;124m\"\u001b[39m)\n\u001b[0;32m   7071\u001b[0m     indexer \u001b[38;5;241m=\u001b[39m indexer[\u001b[38;5;241m~\u001b[39mmask]\n\u001b[0;32m   7072\u001b[0m \u001b[38;5;28;01mreturn\u001b[39;00m \u001b[38;5;28mself\u001b[39m\u001b[38;5;241m.\u001b[39mdelete(indexer)\n",
      "\u001b[1;31mKeyError\u001b[0m: \"['Winner'] not found in axis\""
     ]
    }
   ],
   "source": [
    "df=df.drop(columns=['Winner'])"
   ]
  },
  {
   "cell_type": "code",
   "execution_count": 82,
   "id": "bbc377c3-3f8a-4808-a8da-829b2b93fc8c",
   "metadata": {},
   "outputs": [
    {
     "ename": "ValueError",
     "evalue": "Length of values (14) does not match length of index (13)",
     "output_type": "error",
     "traceback": [
      "\u001b[1;31m---------------------------------------------------------------------------\u001b[0m",
      "\u001b[1;31mValueError\u001b[0m                                Traceback (most recent call last)",
      "Cell \u001b[1;32mIn[82], line 1\u001b[0m\n\u001b[1;32m----> 1\u001b[0m \u001b[43mdf\u001b[49m\u001b[43m[\u001b[49m\u001b[38;5;124;43m'\u001b[39;49m\u001b[38;5;124;43mTeam\u001b[39;49m\u001b[38;5;124;43m'\u001b[39;49m\u001b[43m]\u001b[49m\u001b[38;5;241m=\u001b[39mdif\n",
      "File \u001b[1;32m~\\AppData\\Local\\Programs\\Python\\Python313\\Lib\\site-packages\\pandas\\core\\frame.py:4311\u001b[0m, in \u001b[0;36mDataFrame.__setitem__\u001b[1;34m(self, key, value)\u001b[0m\n\u001b[0;32m   4308\u001b[0m     \u001b[38;5;28mself\u001b[39m\u001b[38;5;241m.\u001b[39m_setitem_array([key], value)\n\u001b[0;32m   4309\u001b[0m \u001b[38;5;28;01melse\u001b[39;00m:\n\u001b[0;32m   4310\u001b[0m     \u001b[38;5;66;03m# set column\u001b[39;00m\n\u001b[1;32m-> 4311\u001b[0m     \u001b[38;5;28;43mself\u001b[39;49m\u001b[38;5;241;43m.\u001b[39;49m\u001b[43m_set_item\u001b[49m\u001b[43m(\u001b[49m\u001b[43mkey\u001b[49m\u001b[43m,\u001b[49m\u001b[43m \u001b[49m\u001b[43mvalue\u001b[49m\u001b[43m)\u001b[49m\n",
      "File \u001b[1;32m~\\AppData\\Local\\Programs\\Python\\Python313\\Lib\\site-packages\\pandas\\core\\frame.py:4524\u001b[0m, in \u001b[0;36mDataFrame._set_item\u001b[1;34m(self, key, value)\u001b[0m\n\u001b[0;32m   4514\u001b[0m \u001b[38;5;28;01mdef\u001b[39;00m\u001b[38;5;250m \u001b[39m\u001b[38;5;21m_set_item\u001b[39m(\u001b[38;5;28mself\u001b[39m, key, value) \u001b[38;5;241m-\u001b[39m\u001b[38;5;241m>\u001b[39m \u001b[38;5;28;01mNone\u001b[39;00m:\n\u001b[0;32m   4515\u001b[0m \u001b[38;5;250m    \u001b[39m\u001b[38;5;124;03m\"\"\"\u001b[39;00m\n\u001b[0;32m   4516\u001b[0m \u001b[38;5;124;03m    Add series to DataFrame in specified column.\u001b[39;00m\n\u001b[0;32m   4517\u001b[0m \n\u001b[1;32m   (...)\u001b[0m\n\u001b[0;32m   4522\u001b[0m \u001b[38;5;124;03m    ensure homogeneity.\u001b[39;00m\n\u001b[0;32m   4523\u001b[0m \u001b[38;5;124;03m    \"\"\"\u001b[39;00m\n\u001b[1;32m-> 4524\u001b[0m     value, refs \u001b[38;5;241m=\u001b[39m \u001b[38;5;28;43mself\u001b[39;49m\u001b[38;5;241;43m.\u001b[39;49m\u001b[43m_sanitize_column\u001b[49m\u001b[43m(\u001b[49m\u001b[43mvalue\u001b[49m\u001b[43m)\u001b[49m\n\u001b[0;32m   4526\u001b[0m     \u001b[38;5;28;01mif\u001b[39;00m (\n\u001b[0;32m   4527\u001b[0m         key \u001b[38;5;129;01min\u001b[39;00m \u001b[38;5;28mself\u001b[39m\u001b[38;5;241m.\u001b[39mcolumns\n\u001b[0;32m   4528\u001b[0m         \u001b[38;5;129;01mand\u001b[39;00m value\u001b[38;5;241m.\u001b[39mndim \u001b[38;5;241m==\u001b[39m \u001b[38;5;241m1\u001b[39m\n\u001b[0;32m   4529\u001b[0m         \u001b[38;5;129;01mand\u001b[39;00m \u001b[38;5;129;01mnot\u001b[39;00m \u001b[38;5;28misinstance\u001b[39m(value\u001b[38;5;241m.\u001b[39mdtype, ExtensionDtype)\n\u001b[0;32m   4530\u001b[0m     ):\n\u001b[0;32m   4531\u001b[0m         \u001b[38;5;66;03m# broadcast across multiple columns if necessary\u001b[39;00m\n\u001b[0;32m   4532\u001b[0m         \u001b[38;5;28;01mif\u001b[39;00m \u001b[38;5;129;01mnot\u001b[39;00m \u001b[38;5;28mself\u001b[39m\u001b[38;5;241m.\u001b[39mcolumns\u001b[38;5;241m.\u001b[39mis_unique \u001b[38;5;129;01mor\u001b[39;00m \u001b[38;5;28misinstance\u001b[39m(\u001b[38;5;28mself\u001b[39m\u001b[38;5;241m.\u001b[39mcolumns, MultiIndex):\n",
      "File \u001b[1;32m~\\AppData\\Local\\Programs\\Python\\Python313\\Lib\\site-packages\\pandas\\core\\frame.py:5266\u001b[0m, in \u001b[0;36mDataFrame._sanitize_column\u001b[1;34m(self, value)\u001b[0m\n\u001b[0;32m   5263\u001b[0m     \u001b[38;5;28;01mreturn\u001b[39;00m _reindex_for_setitem(value, \u001b[38;5;28mself\u001b[39m\u001b[38;5;241m.\u001b[39mindex)\n\u001b[0;32m   5265\u001b[0m \u001b[38;5;28;01mif\u001b[39;00m is_list_like(value):\n\u001b[1;32m-> 5266\u001b[0m     \u001b[43mcom\u001b[49m\u001b[38;5;241;43m.\u001b[39;49m\u001b[43mrequire_length_match\u001b[49m\u001b[43m(\u001b[49m\u001b[43mvalue\u001b[49m\u001b[43m,\u001b[49m\u001b[43m \u001b[49m\u001b[38;5;28;43mself\u001b[39;49m\u001b[38;5;241;43m.\u001b[39;49m\u001b[43mindex\u001b[49m\u001b[43m)\u001b[49m\n\u001b[0;32m   5267\u001b[0m arr \u001b[38;5;241m=\u001b[39m sanitize_array(value, \u001b[38;5;28mself\u001b[39m\u001b[38;5;241m.\u001b[39mindex, copy\u001b[38;5;241m=\u001b[39m\u001b[38;5;28;01mTrue\u001b[39;00m, allow_2d\u001b[38;5;241m=\u001b[39m\u001b[38;5;28;01mTrue\u001b[39;00m)\n\u001b[0;32m   5268\u001b[0m \u001b[38;5;28;01mif\u001b[39;00m (\n\u001b[0;32m   5269\u001b[0m     \u001b[38;5;28misinstance\u001b[39m(value, Index)\n\u001b[0;32m   5270\u001b[0m     \u001b[38;5;129;01mand\u001b[39;00m value\u001b[38;5;241m.\u001b[39mdtype \u001b[38;5;241m==\u001b[39m \u001b[38;5;124m\"\u001b[39m\u001b[38;5;124mobject\u001b[39m\u001b[38;5;124m\"\u001b[39m\n\u001b[1;32m   (...)\u001b[0m\n\u001b[0;32m   5273\u001b[0m     \u001b[38;5;66;03m# TODO: Remove kludge in sanitize_array for string mode when enforcing\u001b[39;00m\n\u001b[0;32m   5274\u001b[0m     \u001b[38;5;66;03m# this deprecation\u001b[39;00m\n",
      "File \u001b[1;32m~\\AppData\\Local\\Programs\\Python\\Python313\\Lib\\site-packages\\pandas\\core\\common.py:573\u001b[0m, in \u001b[0;36mrequire_length_match\u001b[1;34m(data, index)\u001b[0m\n\u001b[0;32m    569\u001b[0m \u001b[38;5;250m\u001b[39m\u001b[38;5;124;03m\"\"\"\u001b[39;00m\n\u001b[0;32m    570\u001b[0m \u001b[38;5;124;03mCheck the length of data matches the length of the index.\u001b[39;00m\n\u001b[0;32m    571\u001b[0m \u001b[38;5;124;03m\"\"\"\u001b[39;00m\n\u001b[0;32m    572\u001b[0m \u001b[38;5;28;01mif\u001b[39;00m \u001b[38;5;28mlen\u001b[39m(data) \u001b[38;5;241m!=\u001b[39m \u001b[38;5;28mlen\u001b[39m(index):\n\u001b[1;32m--> 573\u001b[0m     \u001b[38;5;28;01mraise\u001b[39;00m \u001b[38;5;167;01mValueError\u001b[39;00m(\n\u001b[0;32m    574\u001b[0m         \u001b[38;5;124m\"\u001b[39m\u001b[38;5;124mLength of values \u001b[39m\u001b[38;5;124m\"\u001b[39m\n\u001b[0;32m    575\u001b[0m         \u001b[38;5;124mf\u001b[39m\u001b[38;5;124m\"\u001b[39m\u001b[38;5;124m(\u001b[39m\u001b[38;5;132;01m{\u001b[39;00m\u001b[38;5;28mlen\u001b[39m(data)\u001b[38;5;132;01m}\u001b[39;00m\u001b[38;5;124m) \u001b[39m\u001b[38;5;124m\"\u001b[39m\n\u001b[0;32m    576\u001b[0m         \u001b[38;5;124m\"\u001b[39m\u001b[38;5;124mdoes not match length of index \u001b[39m\u001b[38;5;124m\"\u001b[39m\n\u001b[0;32m    577\u001b[0m         \u001b[38;5;124mf\u001b[39m\u001b[38;5;124m\"\u001b[39m\u001b[38;5;124m(\u001b[39m\u001b[38;5;132;01m{\u001b[39;00m\u001b[38;5;28mlen\u001b[39m(index)\u001b[38;5;132;01m}\u001b[39;00m\u001b[38;5;124m)\u001b[39m\u001b[38;5;124m\"\u001b[39m\n\u001b[0;32m    578\u001b[0m     )\n",
      "\u001b[1;31mValueError\u001b[0m: Length of values (14) does not match length of index (13)"
     ]
    }
   ],
   "source": [
    "df['Team']=dif"
   ]
  },
  {
   "cell_type": "code",
   "execution_count": null,
   "id": "fe7c19b7-dd6c-44e4-8868-60842177a323",
   "metadata": {},
   "outputs": [],
   "source": [
    "df.columns=['Team','Win+Toss','Toss']"
   ]
  },
  {
   "cell_type": "code",
   "execution_count": null,
   "id": "02707217-2b5a-4a5f-b688-babf489a90c9",
   "metadata": {},
   "outputs": [],
   "source": [
    "tem= percentage.to_numpy()"
   ]
  },
  {
   "cell_type": "code",
   "execution_count": null,
   "id": "a7ac713a-5886-4c57-8c7d-0219b2eb1367",
   "metadata": {},
   "outputs": [],
   "source": [
    "df['%(win+toss)']=(df['Win+Toss']/df['Toss'])*100"
   ]
  },
  {
   "cell_type": "code",
   "execution_count": null,
   "id": "dada83e8-181a-4a09-91f1-9e68d6a5347d",
   "metadata": {},
   "outputs": [],
   "source": [
    "tem = percentage.to_numpy()\n",
    "toss = np.delete(tem,13)"
   ]
  },
  {
   "cell_type": "code",
   "execution_count": null,
   "id": "93bba106-b099-4022-87e2-430db0ac4729",
   "metadata": {},
   "outputs": [],
   "source": [
    "df['total_matches']=total_matches.to_numpy()"
   ]
  },
  {
   "cell_type": "code",
   "execution_count": null,
   "id": "325943c1-8276-47ad-b00d-244797c79787",
   "metadata": {},
   "outputs": [],
   "source": [
    "df['%(win+toss)/total']=(df['Win+Toss']/df['total_matches'])*100"
   ]
  },
  {
   "cell_type": "code",
   "execution_count": null,
   "id": "b5aa6733-b151-4d91-8df2-906d668a504f",
   "metadata": {},
   "outputs": [],
   "source": [
    "df.head()"
   ]
  },
  {
   "cell_type": "code",
   "execution_count": null,
   "id": "c60efc32-4d39-43a8-ab9c-2334be135b00",
   "metadata": {},
   "outputs": [],
   "source": [
    "batting['boundary_contribution'] = (batting['fours']+batting['sixes'])/batting['R']\n",
    "batting.head()"
   ]
  },
  {
   "cell_type": "code",
   "execution_count": null,
   "id": "a9a5fbed-ed9f-4757-8598-7cda842e9208",
   "metadata": {},
   "outputs": [],
   "source": [
    "ax=sns.scatterplot(x='boundary_contribution',y='SR',data = batting,color='green')"
   ]
  },
  {
   "cell_type": "code",
   "execution_count": null,
   "id": "328de510-fcac-4edc-9d0e-463f57b73fab",
   "metadata": {},
   "outputs": [],
   "source": [
    "ax = sns.barplot(x=df['Team'],y=df['Win+Toss']).set_xticklabels(df['Team'],rotation=90)"
   ]
  },
  {
   "cell_type": "code",
   "execution_count": null,
   "id": "d9e84a5f-eee7-4c3a-86f3-e3d0efebe065",
   "metadata": {},
   "outputs": [],
   "source": [
    "boundary_contribution=batting['boundary_contribution'].groupby(batting['batsmen']).sum()"
   ]
  },
  {
   "cell_type": "code",
   "execution_count": null,
   "id": "b943c2fc-57fb-4df8-8dca-db2a105d1212",
   "metadata": {},
   "outputs": [],
   "source": [
    "boundary_contribution['']"
   ]
  },
  {
   "cell_type": "code",
   "execution_count": null,
   "id": "d1ebfa5c-ed27-44e4-9b67-b634dbe1a27a",
   "metadata": {},
   "outputs": [],
   "source": [
    "toss_winner"
   ]
  },
  {
   "cell_type": "code",
   "execution_count": null,
   "id": "85550051-30ca-49e8-b5aa-a771001b765f",
   "metadata": {},
   "outputs": [],
   "source": []
  }
 ],
 "metadata": {
  "kernelspec": {
   "display_name": "Python 3 (ipykernel)",
   "language": "python",
   "name": "python3"
  },
  "language_info": {
   "codemirror_mode": {
    "name": "ipython",
    "version": 3
   },
   "file_extension": ".py",
   "mimetype": "text/x-python",
   "name": "python",
   "nbconvert_exporter": "python",
   "pygments_lexer": "ipython3",
   "version": "3.13.1"
  }
 },
 "nbformat": 4,
 "nbformat_minor": 5
}
